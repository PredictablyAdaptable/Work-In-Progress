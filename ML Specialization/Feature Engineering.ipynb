{
 "cells": [
  {
   "cell_type": "code",
   "execution_count": 1,
   "metadata": {},
   "outputs": [],
   "source": [
    "import numpy as np\n",
    "import matplotlib.pyplot as plt\n"
   ]
  },
  {
   "cell_type": "markdown",
   "metadata": {},
   "source": [
    "### Feature Engineering\n",
    "\n",
    "Feature engineering mainly involves transforming existing features/independent variables with intuition to make the learning algorithm run more efficiently\n",
    "\n",
    "#### Feature Enginnering is Largely Transformed by\n",
    "- transforming 2 or more features together to a new feature. i.e. area_new = height_original * width_original\n",
    "- Linear Transformations i.e. area_new = height_new = height_original * 2\n",
    "- Exponential(polynomial)/Log Transformation i.e. height_new = height_original^2 or height_new = log(height_original)\n",
    "- Combination of any of the above i.e. area_new = height_original^2 * width_original"
   ]
  },
  {
   "cell_type": "markdown",
   "metadata": {},
   "source": [
    "#### Selecting Transformations for Feature Engineering \n",
    "\n",
    "It's not often clear what type of transformation you should do to the feature, and which transformations work best. In this case you can take the steps below\n",
    "\n",
    "- create a model that include possible transformation to the feature(s) that intuitively make sense\n",
    "- multiple different transformations of the same features can be added. i.e. transform feature x to x^2, x^3, log(x) etc\n",
    "- run the gradient decent model\n",
    "- observe the feature weights and prune the ones that have less weight allocated to the features and select the ones that have more weight\n",
    "- repeat the process\n",
    "\n",
    "\n",
    "#### Another Approach to Selecting Feature Trnasformations \n",
    "\n",
    "- when running a linear regression, we know that the line of best fit follows a linear pattern. \n",
    "- therefore, you can plot a scatter y against x, and scale x axis to different polynomials, i.e. log(x), x^2, and observe which graph follows a linear pattern the most\n",
    "- select the transformation that is closest to a linear pattern\n"
   ]
  },
  {
   "cell_type": "markdown",
   "metadata": {},
   "source": [
    "### Using Feature Scaling for Feature Transformation\n",
    "\n",
    "Feature scaling can also be a method to transform features to follow a better fit for model efficiency \n"
   ]
  },
  {
   "cell_type": "markdown",
   "metadata": {},
   "source": []
  }
 ],
 "metadata": {
  "kernelspec": {
   "display_name": "Python 3",
   "language": "python",
   "name": "python3"
  },
  "language_info": {
   "codemirror_mode": {
    "name": "ipython",
    "version": 3
   },
   "file_extension": ".py",
   "mimetype": "text/x-python",
   "name": "python",
   "nbconvert_exporter": "python",
   "pygments_lexer": "ipython3",
   "version": "3.12.3"
  }
 },
 "nbformat": 4,
 "nbformat_minor": 2
}
