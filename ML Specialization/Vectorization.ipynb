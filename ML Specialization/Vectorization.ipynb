{
 "cells": [
  {
   "cell_type": "code",
   "execution_count": 1,
   "metadata": {},
   "outputs": [],
   "source": [
    "import numpy as np\n",
    "import time"
   ]
  },
  {
   "cell_type": "markdown",
   "metadata": {},
   "source": [
    "### Data Creation Routines \n",
    "generally have a first parameter which is the shape of the object, can be a single value or a tuple\n",
    "\n",
    "Examples below"
   ]
  },
  {
   "cell_type": "code",
   "execution_count": null,
   "metadata": {},
   "outputs": [],
   "source": [
    "# Numpy routines which allocate memory and fill arrays with value\n",
    "\n",
    "a = np.zeros(4); # np.zeros() create a vector of zeros specified length in parameter in bracket. in this case a = [0, 0, 0, 0], shape (4,) where shape(row, col)\n",
    "a = np.zeros((4,)); # more explicit version, where you specify the column length too\n",
    "np.random.random_sample(4); # gives you a random number generation of 4 random row values between 0 & 1\n",
    "\n",
    "# Numpy routines which allocate memory and fill arrays with value BUT DO NOT ACCEPT SHAPE AS INPUT ARGUEMENT\n",
    "a = np.arange(4.);\n",
    "a = np.random.rand(4);\n"
   ]
  },
  {
   "cell_type": "markdown",
   "metadata": {},
   "source": [
    "### Key differences between the two above\n",
    "1. when shape is specified, array is initiated with a specified shape, and values are filled from the specified shape\n",
    "2. when shape is not specified, array shape of vector is implied based on the number of valeus created. "
   ]
  },
  {
   "cell_type": "code",
   "execution_count": 14,
   "metadata": {},
   "outputs": [
    {
     "name": "stdout",
     "output_type": "stream",
     "text": [
      "[ 5  3 43  2]\n"
     ]
    },
    {
     "ename": "",
     "evalue": "",
     "output_type": "error",
     "traceback": [
      "\u001b[1;31mThe Kernel crashed while executing code in the current cell or a previous cell. \n",
      "\u001b[1;31mPlease review the code in the cell(s) to identify a possible cause of the failure. \n",
      "\u001b[1;31mClick <a href='https://aka.ms/vscodeJupyterKernelCrash'>here</a> for more info. \n",
      "\u001b[1;31mView Jupyter <a href='command:jupyter.viewOutput'>log</a> for further details."
     ]
    }
   ],
   "source": [
    "# Most basic way of creating Numpy arrays\n",
    "a = np.array([5,3,43,2]) # values are just specified\n",
    "a = np.array([1], [2], [3]) # creates a 2 dimentional array(matrix) with 3 rows, 1 column \n",
    "a = np.array([[1, 2], [2, 2], [3, 2]]) # creates a 2dim array with 3 rows, 2 columns, first column containing 1,2,3 and 2nd col containing 2,2,2"
   ]
  },
  {
   "cell_type": "markdown",
   "metadata": {},
   "source": [
    "### Creating in Numpy Arrays\n",
    "1. 1 dimentional array -> (4,) or (4), creates a 1 dimentional array with 4 values\n",
    "2. 2 dimentional array -> (4,0), creates a 2 dimentional array with 4 rows, 0 columns, ***(rows, columns)\n",
    "3. adding dimentions -> (4,0,0) # 3 dimentions, (4,0,0,0) # 4 dimentions etc\n",
    "\n",
    "**(,4) -> invalid"
   ]
  },
  {
   "cell_type": "markdown",
   "metadata": {},
   "source": [
    "### Indexing Numpy Arrays\n",
    "\n",
    "Indexing -> reffring to a value(s) in an array by its position within the array\n",
    "\n",
    "Slicing -> getting a subset of elements from an array based on their indicies"
   ]
  },
  {
   "cell_type": "markdown",
   "metadata": {},
   "source": []
  },
  {
   "cell_type": "code",
   "execution_count": 10,
   "metadata": {},
   "outputs": [
    {
     "name": "stdout",
     "output_type": "stream",
     "text": [
      "[0 1 2 3 4 5 6 7 8 9]\n"
     ]
    },
    {
     "data": {
      "text/plain": [
       "array([2, 4, 6])"
      ]
     },
     "execution_count": 10,
     "metadata": {},
     "output_type": "execute_result"
    }
   ],
   "source": [
    "# Indexing\n",
    "a = np.arange(10)\n",
    "print(a)\n",
    "# Accessing an Element\n",
    "a[0] # returns the 1st element\n",
    "a[1] # returns the 2nd element\n",
    "a[-1] # returns the last element\n",
    "a[-2] # returns the 2nd last element\n",
    "\n",
    "# Slicing, syntax is vector[start:stop:step]\n",
    "# important to note, starting value is inclusive, stopping value is exclusive, stepping values \n",
    "a[2:7:2] # start in the 3rd position (since 0 is the 1st position), and do not return values that are beyond 6th position(6th position exclusive), and have a distance of 3 indexes \n",
    "# above will return [2, 4, 6]\n",
    "a[3:] # access all elements 3 and above 3rd inclusive \n",
    "a[:3] # access all elements 3 and below 3rd exclusive\n",
    "a[:] # access all elements "
   ]
  },
  {
   "cell_type": "code",
   "execution_count": 11,
   "metadata": {},
   "outputs": [],
   "source": [
    "# Useful Single Vector Operations\n",
    "a = np.array([1,2,3,4])\n",
    "b = -a # [-1, -2, -3, -4]\n",
    "b = a**2 # [1, 4, 9, 16]\n",
    "b = np.sum(a) #10\n",
    "b = np.mean(a) #2.5\n"
   ]
  },
  {
   "cell_type": "code",
   "execution_count": 12,
   "metadata": {},
   "outputs": [],
   "source": [
    "# dot product or sum product\n",
    "c = np.dot(a,b)"
   ]
  },
  {
   "cell_type": "code",
   "execution_count": null,
   "metadata": {},
   "outputs": [],
   "source": []
  }
 ],
 "metadata": {
  "kernelspec": {
   "display_name": "Python 3",
   "language": "python",
   "name": "python3"
  },
  "language_info": {
   "codemirror_mode": {
    "name": "ipython",
    "version": 3
   },
   "file_extension": ".py",
   "mimetype": "text/x-python",
   "name": "python",
   "nbconvert_exporter": "python",
   "pygments_lexer": "ipython3",
   "version": "3.12.3"
  }
 },
 "nbformat": 4,
 "nbformat_minor": 2
}
