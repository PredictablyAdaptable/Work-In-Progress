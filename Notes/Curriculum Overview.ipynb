{
 "cells": [
  {
   "cell_type": "markdown",
   "metadata": {},
   "source": [
    "## Header\n",
    "\n",
    "# Header 1\n",
    "## Header 2\n",
    "### Header 3\n",
    "#### Header 4\n",
    "\n",
    "## Bulletpoints\n",
    "\n",
    "- bullet 1\n",
    "* bullet 2\n",
    "+ bullet 3\n",
    "\n",
    "__bold__\n",
    "**bold**\n",
    "_italic_\n",
    "*italic*\n",
    "\n",
    "`inline code`\n"
   ]
  },
  {
   "cell_type": "markdown",
   "metadata": {},
   "source": [
    "## Curriculum to Cover\n",
    "\n",
    "### Software Engineering\n",
    "\n",
    "#### Key Concepts\n",
    "1. arrays\n",
    "2. linked lists\n",
    "3. hash map\n",
    "4. binary search\n",
    "5. queues\n",
    "6. stack\n",
    "7. trees\n",
    "8. graphs\n",
    "9. breadth first search\n",
    "10. depth first search\n",
    "11. sliding window\n",
    "12. backtracking\n",
    "13. recursion\n",
    "\n",
    "#### SWE Curriculum & Main Resource\n",
    "\n",
    "1. Neetcode\n",
    "    1. https://neetcode.io/roadmap\n",
    "    2. https://neetcode.io/practice\n",
    "\n",
    "\n",
    "### Data Science & Machine Learning\n",
    "\n",
    "1. Coursera - ML Specilization \n",
    "2. Coursera - Deep learning Specialization\n",
    "3. Fast.ai - Practical Deep Learning for Coders\n",
    "4. Fast.ai - deep learning from the foundations\n",
    "\n",
    "\n"
   ]
  }
 ],
 "metadata": {
  "language_info": {
   "name": "python"
  }
 },
 "nbformat": 4,
 "nbformat_minor": 2
}
