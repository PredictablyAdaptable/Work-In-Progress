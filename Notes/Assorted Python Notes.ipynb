{
 "cells": [
  {
   "cell_type": "markdown",
   "metadata": {},
   "source": [
    "### Python Notes\n",
    "\n",
    "#### List Comprehension\n",
    " \n",
    "1. A concise way of creating a list\n",
    "\n",
    " `New_list = [the transformation function (expression) for variable i.e. x in iterable]`\n",
    "2. Variation of list comprehensions\n",
    "    1. Basic List Comprehension\n",
    "        1. `quadraticValue = [x**2 for x in range(10)]`\n",
    "    2. List comprehension with a condition\n",
    "        1. `EvenNumbers = [x for x in range(10) if x%2 == 0]`\n",
    " \n",
    "#### Dictionary Comprehension\n",
    "1. A concise way of creating a dictionary\n",
    "\n",
    "`NewDict = {the transformation function for key: the transformation function for value for variable(s) in iterable}`\n",
    "2. Variations of Dictionary Comprehensions\n",
    "    1. Basic Dictionary Comprehension\n",
    "        1. `NewDict = {x: x**2 for x in range(5)}`\n",
    "    2. Dictionary Comprehension with Condition\n",
    "        1. `NewDict = {x: x**2 for x in range(10) if x%2 == 0}`\n",
    "    3. Creating Dictionary from List\n",
    "        1. `NewDict = {key: value for key, value in enumerate(numbers)}`"
   ]
  },
  {
   "cell_type": "markdown",
   "metadata": {},
   "source": []
  }
 ],
 "metadata": {
  "language_info": {
   "name": "python"
  }
 },
 "nbformat": 4,
 "nbformat_minor": 2
}
