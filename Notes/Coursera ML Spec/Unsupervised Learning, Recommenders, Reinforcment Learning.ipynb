{
 "cells": [
  {
   "cell_type": "markdown",
   "metadata": {},
   "source": [
    "#### Unsupervised Learning \n",
    "1. Clustering\n",
    "    1. k-means\n",
    "        1. intuition\n",
    "        2. algorithm\n",
    "        3. objective\n",
    "        4. initializing k-means\n",
    "        5. choosing number of clusters\n",
    "    2. Finding Anomolies\n",
    "        1. normal distribution\n",
    "        2. anomoly detection\n",
    "        3. developing and evaluating anomaly detection system\n",
    "\n",
    "2. Recommender Systems\n",
    "    1. making recommendations\n",
    "        1. using per-item features\n",
    "        2. collaborative filtering algo\n",
    "        3. binary labels\n",
    "        4. mean normalization\n",
    "        5. tensorflow implemntation of collaborative filtering\n",
    "        6. deep learning content-based filtering\n",
    "    2. PCA\n",
    "        1. algo\n",
    "        2. code\n",
    "\n",
    "3. Reinforcement Learning\n",
    "    1. What is Reinfocement Learning?\n",
    "        1. State-Action Value Function\n",
    "        2. Bellman Equation \n",
    "        3. stochastic environment\n",
    "        4. state-value function\n",
    "        5. algorithm refinment\n",
    "        "
   ]
  },
  {
   "cell_type": "markdown",
   "metadata": {},
   "source": []
  },
  {
   "cell_type": "markdown",
   "metadata": {},
   "source": []
  },
  {
   "cell_type": "markdown",
   "metadata": {},
   "source": []
  },
  {
   "cell_type": "markdown",
   "metadata": {},
   "source": []
  }
 ],
 "metadata": {
  "language_info": {
   "name": "python"
  }
 },
 "nbformat": 4,
 "nbformat_minor": 2
}
