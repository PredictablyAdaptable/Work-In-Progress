{
 "cells": [
  {
   "cell_type": "code",
   "execution_count": 80,
   "metadata": {},
   "outputs": [],
   "source": [
    "# Import Basic Libraries\n",
    "import pandas as pd\n",
    "import numpy as np\n"
   ]
  },
  {
   "cell_type": "code",
   "execution_count": 81,
   "metadata": {},
   "outputs": [],
   "source": [
    "# Braille Dictionaries\n",
    "# As per instructions I will only include letter values a-z, ability to capitalize, number 0-9, and \" \"\n",
    "\n",
    "alphabet = {'a':'O.....', 'b':'O.O...', 'c':'OO....',\n",
    "            'd':'OO.O..', 'e':'O..O..', 'f':'OOO...',\n",
    "            'g':'OOOO..', 'h':'O.OO..', 'i':'.OO...',\n",
    "            'j':'.OOO..', 'k':'O...O.', 'l':'O.O.O.',\n",
    "            'm':'OO..O.', 'n':'OO.OO.', 'o':'O..OO.',\n",
    "            'p':'OOO.O.', 'q':'OOOOO.', 'r':'O.OOO.',\n",
    "            's':'.OO.O.', 't':'.OOOO.', 'u':'O...OO',\n",
    "            'v':'O.O.OO', 'w':'.OOO.O', 'x':'OO..OO',\n",
    "            'y':'OO.OOO', 'z':'O..OOO'}\n",
    "\n",
    "numeric = {\"1\": \"O.....\",\n",
    "            \"2\": \"O.O...\",\n",
    "            \"3\": \"OO....\",\n",
    "            \"4\": \"OO.O..\",\n",
    "            \"5\": \"O..O..\",\n",
    "            \"6\": \"OOO...\",\n",
    "            \"7\": \"OOOO..\",\n",
    "            \"8\": \"O.OO..\",\n",
    "            \"9\": \".OO...\",\n",
    "            \"0\": \".OOO..\"}\n",
    "\n",
    "inverse_alphabet = {value: key for key, value in alphabet.items()}\n",
    "\n",
    "inverse_numeric = {value: key for key, value in numeric.items()}\n"
   ]
  },
  {
   "cell_type": "code",
   "execution_count": 82,
   "metadata": {},
   "outputs": [],
   "source": [
    "# Translator UDFs\n",
    "\n",
    "# AlphaNumeric to Braille\n",
    "## Alphabet to Braille\n",
    "def AlphaToBraille(value):\n",
    "    char = value.lower()\n",
    "    return alphabet.get(char, 'invalid')\n",
    "\n",
    "## Numeric to Braille\n",
    "def NumericToBraille(value):\n",
    "    return numeric.get(value, 'invalid')\n",
    "\n",
    "\n",
    "# Braille to AlphaNumeric\n",
    "## Braille to Alphabet\n",
    "def BrailleToAlpha(value):\n",
    "    return inverse_alphabet.get(value, 'invalid')\n",
    "\n",
    "## Braille to Numeric\n",
    "def BrailleToNumeric(value):\n",
    "    return inverse_numeric.get(value, 'invalid')"
   ]
  },
  {
   "cell_type": "code",
   "execution_count": 83,
   "metadata": {},
   "outputs": [],
   "source": [
    "# Braille to Alphanumeric #######problem with numeric inputs, braille to numeric doesnt show\n",
    "\n",
    "def BrailleToAlphanumeric(input):\n",
    "\n",
    "    initiated_string = ''\n",
    "    capitalize = False\n",
    "    numeric = False \n",
    "\n",
    "    for i in range(0, len(input), 6):\n",
    "        chunk = input[i:i+6]\n",
    "\n",
    "        if chunk == \"......\": # Space \n",
    "            character_value = \" \"\n",
    "            numeric = False\n",
    "        \n",
    "        elif numeric:\n",
    "            character_value = BrailleToNumeric(chunk)\n",
    "\n",
    "        elif chunk == \".O.OOO\": # Number Follows\n",
    "            numeric = True\n",
    "            continue\n",
    "\n",
    "        elif chunk == \".....O\": # Capital Follows\n",
    "            capitalize = True\n",
    "            continue\n",
    "        \n",
    "        else:\n",
    "            character_value = BrailleToAlpha(chunk)\n",
    "        \n",
    "        if capitalize:\n",
    "            character_value = character_value.upper()\n",
    "            capitalize = False \n",
    "\n",
    "        initiated_string += character_value\n",
    "\n",
    "    return initiated_string\n",
    "\n"
   ]
  },
  {
   "cell_type": "code",
   "execution_count": 84,
   "metadata": {},
   "outputs": [],
   "source": [
    "# Alphanumeric to Braille\n",
    "\n",
    "\n",
    "def AlphanumericToBraille(input):\n",
    "\n",
    "    initiated_string = ''\n",
    "    numeric = False\n",
    "\n",
    "    for i in input:\n",
    "\n",
    "        if i == ' ':\n",
    "            character_value = '......'\n",
    "            numeric = False\n",
    "\n",
    "        elif i.isupper():\n",
    "            capital_indicator = '.....O' \n",
    "            small_caps = AlphaToBraille(i.lower())\n",
    "            character_value = capital_indicator + small_caps\n",
    "\n",
    "        elif i.isdigit():\n",
    "            numeric_indicator = '.O.OOO'\n",
    "            numeric_value = NumericToBraille(i)\n",
    "            if not numeric:\n",
    "                character_value = numeric_indicator + numeric_value\n",
    "                numeric = True\n",
    "            else:\n",
    "                character_value = numeric_value\n",
    "\n",
    "        else:\n",
    "            character_value = AlphaToBraille(i)\n",
    "\n",
    "        initiated_string += character_value\n",
    "\n",
    "    return initiated_string\n",
    "    \n"
   ]
  },
  {
   "cell_type": "code",
   "execution_count": 85,
   "metadata": {},
   "outputs": [],
   "source": [
    "# The Final Translator Function, Determining if its Braille or Alhpanumeric \n",
    "def BrailleTranslator(string_value):\n",
    "\n",
    "    if any(char not in '.O' for char in string_value):\n",
    "        translated = AlphanumericToBraille(string_value)\n",
    "\n",
    "    else:\n",
    "        translated = BrailleToAlphanumeric(string_value)\n",
    "\n",
    "    return translated"
   ]
  },
  {
   "cell_type": "code",
   "execution_count": 86,
   "metadata": {},
   "outputs": [
    {
     "data": {
      "text/plain": [
       "'142 ASDF  adfa'"
      ]
     },
     "execution_count": 86,
     "metadata": {},
     "output_type": "execute_result"
    }
   ],
   "source": [
    "# Testing Function\n",
    "string_value = ''\n",
    "\n",
    "BrailleTranslator(string_value)"
   ]
  }
 ],
 "metadata": {
  "kernelspec": {
   "display_name": "Python 3",
   "language": "python",
   "name": "python3"
  },
  "language_info": {
   "codemirror_mode": {
    "name": "ipython",
    "version": 3
   },
   "file_extension": ".py",
   "mimetype": "text/x-python",
   "name": "python",
   "nbconvert_exporter": "python",
   "pygments_lexer": "ipython3",
   "version": "3.12.3"
  }
 },
 "nbformat": 4,
 "nbformat_minor": 2
}
